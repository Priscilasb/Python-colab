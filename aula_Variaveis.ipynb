{
  "nbformat": 4,
  "nbformat_minor": 0,
  "metadata": {
    "colab": {
      "provenance": [],
      "toc_visible": true
    },
    "kernelspec": {
      "name": "python3",
      "display_name": "Python 3"
    },
    "language_info": {
      "name": "python"
    }
  },
  "cells": [
    {
      "cell_type": "markdown",
      "source": [
        "## **NÚMEROS**"
      ],
      "metadata": {
        "id": "54wQiOe8eXOB"
      }
    },
    {
      "cell_type": "code",
      "source": [
        "preco = 47\n",
        "quantidade = 0.250\n",
        "\n",
        "total_apagar = quantidade * preco\n",
        "print (total_apagar)"
      ],
      "metadata": {
        "colab": {
          "base_uri": "https://localhost:8080/"
        },
        "id": "nEDwaKG-YQrs",
        "outputId": "df872089-35e9-4a77-fdb9-dea91d922496"
      },
      "execution_count": null,
      "outputs": [
        {
          "output_type": "stream",
          "name": "stdout",
          "text": [
            "11.75\n"
          ]
        }
      ]
    },
    {
      "cell_type": "code",
      "execution_count": null,
      "metadata": {
        "id": "cgguScrwW7qT"
      },
      "outputs": [],
      "source": []
    },
    {
      "cell_type": "code",
      "source": [
        "qte_itens_carrinho_compra = 0\n",
        "\n",
        "qte_itens_carrinho_compra = qte_itens_carrinho_compra + 1 \n",
        "print(qte_itens_carrinho_compra)\n",
        "\n",
        "qte_itens_carrinho_compra = qte_itens_carrinho_compra + 1 \n",
        "print(qte_itens_carrinho_compra)"
      ],
      "metadata": {
        "colab": {
          "base_uri": "https://localhost:8080/"
        },
        "id": "hmwci_fKXJzQ",
        "outputId": "ace614b0-7675-4498-f353-a836d8af35e9"
      },
      "execution_count": null,
      "outputs": [
        {
          "output_type": "stream",
          "name": "stdout",
          "text": [
            "1\n",
            "2\n"
          ]
        }
      ]
    },
    {
      "cell_type": "code",
      "source": [
        "a = 3\n",
        "b = 2 \n",
        "\n",
        "c = a/b\n",
        "print(c)\n",
        "print(type(c)) //divisão\n",
        "\n",
        "d = a//b\n",
        "print(d)\n",
        "print(type(d)) //divisão inteira"
      ],
      "metadata": {
        "colab": {
          "base_uri": "https://localhost:8080/"
        },
        "id": "tnk2Mg64Yx47",
        "outputId": "cd84a4f7-7833-4908-b44d-d643c6ed4c79"
      },
      "execution_count": null,
      "outputs": [
        {
          "output_type": "stream",
          "name": "stdout",
          "text": [
            "1.5\n",
            "<class 'float'>\n",
            "1\n",
            "<class 'int'>\n"
          ]
        }
      ]
    },
    {
      "cell_type": "code",
      "source": [
        "print(int(3.9))\n",
        "print(float(10))\n",
        "print(complex(1))"
      ],
      "metadata": {
        "colab": {
          "base_uri": "https://localhost:8080/"
        },
        "id": "FGIqXeyYZLdO",
        "outputId": "a796c247-dd21-469a-b74e-e48f3663fe90"
      },
      "execution_count": null,
      "outputs": [
        {
          "output_type": "stream",
          "name": "stdout",
          "text": [
            "3\n",
            "10.0\n",
            "(1+0j)\n"
          ]
        }
      ]
    },
    {
      "cell_type": "code",
      "source": [
        "svv_19 = 153.98\n",
        "sqv_19 = 3\n",
        "\n",
        "tkt_19 = svv_19 / sqv_19\n",
        "print(tkt_19)"
      ],
      "metadata": {
        "colab": {
          "base_uri": "https://localhost:8080/"
        },
        "id": "6Z9Az07wZ-ZT",
        "outputId": "0c952159-abe3-448c-d657-184e79938f33"
      },
      "execution_count": null,
      "outputs": [
        {
          "output_type": "stream",
          "name": "stdout",
          "text": [
            "51.32666666666666\n"
          ]
        }
      ]
    },
    {
      "cell_type": "code",
      "source": [
        "svv_20 = 337.01\n",
        "sqv_20 = 7\n",
        "\n",
        "tkt_20 = svv_20 / sqv_20\n",
        "print(tkt_20)"
      ],
      "metadata": {
        "colab": {
          "base_uri": "https://localhost:8080/"
        },
        "id": "cdX-M76FZ-e1",
        "outputId": "d9cf2bb2-e640-4eb8-98a1-ab3f9aeb7a86"
      },
      "execution_count": null,
      "outputs": [
        {
          "output_type": "stream",
          "name": "stdout",
          "text": [
            "48.144285714285715\n"
          ]
        }
      ]
    },
    {
      "cell_type": "code",
      "source": [
        "svv_23 = 295.33\n",
        "sqv_23 = 5\n",
        "\n",
        "tkt_23 = svv_23 / sqv_23\n",
        "print(tkt_23)"
      ],
      "metadata": {
        "colab": {
          "base_uri": "https://localhost:8080/"
        },
        "id": "aNBwbrmUamNJ",
        "outputId": "91dac42d-fde0-460d-b916-c21a7b74d30e"
      },
      "execution_count": null,
      "outputs": [
        {
          "output_type": "stream",
          "name": "stdout",
          "text": [
            "59.065999999999995\n"
          ]
        }
      ]
    },
    {
      "cell_type": "code",
      "source": [
        "tkt = (tkt_19 + tkt_20 + tkt_23)/3\n",
        "print(tkt)"
      ],
      "metadata": {
        "colab": {
          "base_uri": "https://localhost:8080/"
        },
        "id": "nb8zw0cta6Wu",
        "outputId": "eeeb080d-32f4-43e8-efcd-f6e783aa6623"
      },
      "execution_count": null,
      "outputs": [
        {
          "output_type": "stream",
          "name": "stdout",
          "text": [
            "52.8456507936508\n"
          ]
        }
      ]
    },
    {
      "cell_type": "markdown",
      "source": [
        "## **STRING**"
      ],
      "metadata": {
        "id": "bMoiKqroeirC"
      }
    },
    {
      "cell_type": "code",
      "source": [
        "nome_aula = 'Aula 04, Modulo 01, String'\n",
        "\n",
        "print(nome_aula)\n",
        "print(type(nome_aula))"
      ],
      "metadata": {
        "colab": {
          "base_uri": "https://localhost:8080/"
        },
        "id": "UuA91Dd7emlU",
        "outputId": "1ee171bb-7de8-4914-ef59-8da0799a381f"
      },
      "execution_count": null,
      "outputs": [
        {
          "output_type": "stream",
          "name": "stdout",
          "text": [
            "Aula 04, Modulo 01, String\n",
            "<class 'str'>\n"
          ]
        }
      ]
    },
    {
      "cell_type": "code",
      "source": [
        "string_vazia = \"\"\n",
        "print(string_vazia)\n",
        "print(type(string_vazia))"
      ],
      "metadata": {
        "colab": {
          "base_uri": "https://localhost:8080/"
        },
        "id": "nx2diaxEfAR3",
        "outputId": "3362e5ee-608a-4e35-e0ef-966fcedd5046"
      },
      "execution_count": null,
      "outputs": [
        {
          "output_type": "stream",
          "name": "stdout",
          "text": [
            "\n",
            "<class 'str'>\n"
          ]
        }
      ]
    },
    {
      "cell_type": "code",
      "source": [
        "nome = 'Andre Marcos'\n",
        "sobrenome = 'Perez'\n",
        "\n",
        "apresentacao = 'Olá meu nome é ' + nome +' ' + sobrenome + '.'\n",
        "print(apresentacao)"
      ],
      "metadata": {
        "colab": {
          "base_uri": "https://localhost:8080/"
        },
        "id": "XoM9w_AMfNiA",
        "outputId": "e6e01c59-1820-4f1b-fbaa-bde6b728ec1b"
      },
      "execution_count": null,
      "outputs": [
        {
          "output_type": "stream",
          "name": "stdout",
          "text": [
            "Olá meu nome é Andre Marcos Perez.\n"
          ]
        }
      ]
    },
    {
      "cell_type": "code",
      "source": [
        "nome = 'Andre Marcos'\n",
        "sobrenome = 'Perez'\n",
        "\n",
        "apresentacao = f'Olá meu nome é {nome} {sobrenome}.'\n",
        "print(apresentacao)"
      ],
      "metadata": {
        "colab": {
          "base_uri": "https://localhost:8080/"
        },
        "id": "knpjTNBClN9x",
        "outputId": "1ce4e3f9-67c7-4ad5-87b3-91a43bb94179"
      },
      "execution_count": null,
      "outputs": [
        {
          "output_type": "stream",
          "name": "stdout",
          "text": [
            "Olá meu nome é Andre Marcos Perez.\n"
          ]
        }
      ]
    },
    {
      "cell_type": "code",
      "source": [
        "email = 'andre.perez@gmail.com'\n",
        "print('0: ' + email[0])\n",
        "print('11: ' + email[11])"
      ],
      "metadata": {
        "colab": {
          "base_uri": "https://localhost:8080/"
        },
        "id": "FnP9C9KZEPRy",
        "outputId": "7c0552cb-fb75-4332-df73-602ae4331898"
      },
      "execution_count": null,
      "outputs": [
        {
          "output_type": "stream",
          "name": "stdout",
          "text": [
            "0: a\n",
            "11: @\n"
          ]
        }
      ]
    },
    {
      "cell_type": "code",
      "source": [
        "email = 'andre.perez@gmail.com'\n",
        "email = email[0:11]\n",
        "print(email)\n"
      ],
      "metadata": {
        "colab": {
          "base_uri": "https://localhost:8080/"
        },
        "id": "bmw-0xnzFokV",
        "outputId": "c1c6bbfa-7eab-42e3-dc13-f392c12677f5"
      },
      "execution_count": null,
      "outputs": [
        {
          "output_type": "stream",
          "name": "stdout",
          "text": [
            "andre.perez\n"
          ]
        }
      ]
    },
    {
      "cell_type": "code",
      "source": [
        "endereco = 'Avenida Paulista, 1811, São Paulo, São Paulo, Brasil.'\n",
        "#maiusculo: string.upper()\n",
        "print(endereco.upper())\n",
        "\n",
        "#posicao: string.find(substring)\n",
        "posicao = endereco.find('Brasil')\n",
        "print(posicao)\n",
        "\n",
        "#substituicao: string.replace(antigo, novo)\n",
        "print(endereco.replace('Avenida','Av'))"
      ],
      "metadata": {
        "colab": {
          "base_uri": "https://localhost:8080/"
        },
        "id": "0vWiZBxxG08B",
        "outputId": "52cd5da8-9b7a-4262-ec63-ef7f87f4d268"
      },
      "execution_count": null,
      "outputs": [
        {
          "output_type": "stream",
          "name": "stdout",
          "text": [
            "AVENIDA PAULISTA, 1811, SÃO PAULO, SÃO PAULO, BRASIL.\n",
            "46\n",
            "Av Paulista, 1811, São Paulo, São Paulo, Brasil.\n"
          ]
        }
      ]
    },
    {
      "cell_type": "code",
      "source": [
        "idade = 19\n",
        "print(type(idade))\n",
        "\n",
        "idade=str(idade)\n",
        "print(type(idade))"
      ],
      "metadata": {
        "colab": {
          "base_uri": "https://localhost:8080/"
        },
        "id": "5UrnI794IG1V",
        "outputId": "6edf287c-b742-4b14-dd6a-c08ce2dda05f"
      },
      "execution_count": null,
      "outputs": [
        {
          "output_type": "stream",
          "name": "stdout",
          "text": [
            "<class 'int'>\n",
            "<class 'str'>\n"
          ]
        }
      ]
    },
    {
      "cell_type": "code",
      "source": [
        "#Sua empresa  \n",
        "lat = ' -22.005320' \n",
        "lon = '-47.891040' \n",
        " \n",
        "#Startup adquirida \n",
        "latlon = ' -22.005320; -47.891040' \n",
        "\n",
        "posicao_char_divisao = latlon.find(';')\n",
        "print(posicao_char_divisao)\n",
        "\n",
        "lat_startup = latlon[0:posicao_char_divisao]\n",
        "print(lat_startup)\n",
        "\n",
        "lon_startup = latlon[posicao_char_divisao+1:len(latlon)]\n",
        "print(lon_startup)"
      ],
      "metadata": {
        "colab": {
          "base_uri": "https://localhost:8080/"
        },
        "id": "z4hkDqZaJ45G",
        "outputId": "2751ae0f-d36f-4840-f48e-c7ea0c8cef45"
      },
      "execution_count": null,
      "outputs": [
        {
          "output_type": "stream",
          "name": "stdout",
          "text": [
            "11\n",
            " -22.005320\n",
            " -47.891040\n"
          ]
        }
      ]
    },
    {
      "cell_type": "markdown",
      "source": [
        "## **BOLEANOS**"
      ],
      "metadata": {
        "id": "kkNSQfaaOGRN"
      }
    },
    {
      "cell_type": "markdown",
      "source": [
        "# Nova seção"
      ],
      "metadata": {
        "id": "Vg5JTO3uwuaY"
      }
    },
    {
      "cell_type": "code",
      "source": [
        "verdadeiro = True\n",
        "print(verdadeiro)\n",
        "\n",
        "falso = False\n",
        "print(falso)"
      ],
      "metadata": {
        "colab": {
          "base_uri": "https://localhost:8080/"
        },
        "id": "4VNJ-UTrOIAs",
        "outputId": "8d2092e6-cec5-4986-b4cf-ba31bc693a0c"
      },
      "execution_count": null,
      "outputs": [
        {
          "output_type": "stream",
          "name": "stdout",
          "text": [
            "True\n",
            "False\n"
          ]
        }
      ]
    },
    {
      "cell_type": "code",
      "source": [
        "saldo_em_conta = 200\n",
        "valor_do_saque = 100\n",
        "\n",
        "pode_efetuar_saque = valor_do_saque <= saldo_em_conta\n",
        "print(pode_efetuar_saque)"
      ],
      "metadata": {
        "colab": {
          "base_uri": "https://localhost:8080/"
        },
        "id": "qfaXZf6-O3IA",
        "outputId": "d33594c2-355a-4573-92de-e594b1a0d082"
      },
      "execution_count": null,
      "outputs": [
        {
          "output_type": "stream",
          "name": "stdout",
          "text": [
            "True\n"
          ]
        }
      ]
    },
    {
      "cell_type": "code",
      "source": [
        "codigo_de_seguranca = '852'\n",
        "codigo_de_seguranca_Cadastro = '010'\n",
        "\n",
        "pode_efetuar_pagamento = codigo_de_seguranca == codigo_de_seguranca_Cadastro\n",
        "print(pode_efetuar_saque)"
      ],
      "metadata": {
        "colab": {
          "base_uri": "https://localhost:8080/"
        },
        "id": "DOLbo-nxPZnR",
        "outputId": "e3bc6a0f-b7dd-46af-878e-9e7993ee063e"
      },
      "execution_count": null,
      "outputs": [
        {
          "output_type": "stream",
          "name": "stdout",
          "text": [
            "True\n"
          ]
        }
      ]
    },
    {
      "cell_type": "code",
      "source": [
        "idade = 19\n",
        "tipo_sangue = 'O-'\n",
        "filhos = 0\n",
        "telefone_fixo = None\n",
        "telefone_fixo = ''\n",
        "\n",
        "print(bool(idade))\n",
        "print(bool(tipo_sangue))\n",
        "print(bool(filhos))\n",
        "print(bool(telefone_fixo))\n",
        "print(bool(telefone_fixo))\n"
      ],
      "metadata": {
        "colab": {
          "base_uri": "https://localhost:8080/"
        },
        "id": "-Xk4FB_8g0JI",
        "outputId": "ff00b224-2773-4532-dbdb-519941f33aae"
      },
      "execution_count": null,
      "outputs": [
        {
          "output_type": "stream",
          "name": "stdout",
          "text": [
            "True\n",
            "True\n",
            "False\n",
            "False\n",
            "False\n"
          ]
        }
      ]
    },
    {
      "cell_type": "code",
      "source": [
        "usuario = 'andre.perez' \n",
        "senha = 'andre123' \n",
        "\n",
        "usuario_cadastro = 'andre.perez' \n",
        "senha_cadastro = 'andre321' \n",
        "\n",
        "usuario_igual = usuario == usuario_cadastro\n",
        "senha_igual = senha == senha_cadastro\n",
        "\n",
        "print(usuario_igual)\n",
        "print(senha_igual)\n",
        "\n",
        "conceder_acesso = usuario_igual & senha_igual\n",
        "print(conceder_acesso)\n"
      ],
      "metadata": {
        "colab": {
          "base_uri": "https://localhost:8080/"
        },
        "id": "QbJZslndhWIm",
        "outputId": "76585585-35e4-40ec-9dc1-edd34c2aa18d"
      },
      "execution_count": null,
      "outputs": [
        {
          "output_type": "stream",
          "name": "stdout",
          "text": [
            "True\n",
            "False\n",
            "False\n"
          ]
        }
      ]
    }
  ]
}