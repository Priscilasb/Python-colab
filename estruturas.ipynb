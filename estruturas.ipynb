{
  "nbformat": 4,
  "nbformat_minor": 0,
  "metadata": {
    "colab": {
      "provenance": [],
      "toc_visible": true
    },
    "kernelspec": {
      "name": "python3",
      "display_name": "Python 3"
    },
    "language_info": {
      "name": "python"
    }
  },
  "cells": [
    {
      "cell_type": "markdown",
      "source": [
        "## **LISTAS**"
      ],
      "metadata": {
        "id": "LFZSRw7lBR41"
      }
    },
    {
      "cell_type": "code",
      "execution_count": null,
      "metadata": {
        "colab": {
          "base_uri": "https://localhost:8080/"
        },
        "id": "IZEI9Do5qOcq",
        "outputId": "b055105f-4a5c-4b00-caae-4b1ed62dfc9d"
      },
      "outputs": [
        {
          "output_type": "stream",
          "name": "stdout",
          "text": [
            "860.63\n"
          ]
        }
      ],
      "source": [
        "dia_11_saldo_inicial = 1000 \n",
        "dia_11_transacao_1 = 243 \n",
        "dia_11_transacao_2 = -798.58 \n",
        "dia_11_transacao_3 = 427.12 \n",
        "dia_11_transacao_4 = -10.91 \n",
        "\n",
        " \n",
        "\n",
        "dia_11_saldo_final = dia_11_saldo_inicial + dia_11_transacao_1 + dia_11_transacao_2 + dia_11_transacao_3 + dia_11_transacao_4 \n",
        "print(dia_11_saldo_final) "
      ]
    },
    {
      "cell_type": "code",
      "source": [
        "usuario_web = ['Andre Prez', 'andre.perez', 'andre123', 'andre.perez@gmail.com']\n",
        "\n",
        "print(usuario_web)\n",
        "print(type(usuario_web))"
      ],
      "metadata": {
        "colab": {
          "base_uri": "https://localhost:8080/"
        },
        "id": "ZlJDrSe9sHhJ",
        "outputId": "8742353a-f9bd-40b0-f045-7b90f85a21e1"
      },
      "execution_count": null,
      "outputs": [
        {
          "output_type": "stream",
          "name": "stdout",
          "text": [
            "['Andre Prez', 'andre.perez', 'andre123', 'andre.perez@gmail.com']\n",
            "<class 'list'>\n"
          ]
        }
      ]
    },
    {
      "cell_type": "code",
      "source": [
        "idade = 20\n",
        "saldo_em_conta = 723.15\n",
        "usuario_loggedin = True\n",
        "\n",
        "usuario_web = ['Andre Perez', idade, 'andre.perez', 'andre123', 'andre.perez@gmail.com', saldo_em_conta, usuario_loggedin]\n",
        "\n",
        "print(usuario_web)\n",
        "print(type(usuario_web))"
      ],
      "metadata": {
        "colab": {
          "base_uri": "https://localhost:8080/"
        },
        "id": "Fzoi7wwfw_Tf",
        "outputId": "e8aab5e5-3f83-4ea4-e3b9-c0a989f00600"
      },
      "execution_count": null,
      "outputs": [
        {
          "output_type": "stream",
          "name": "stdout",
          "text": [
            "['Andre Perez', 20, 'andre.perez', 'andre123', 'andre.perez@gmail.com', 723.15, True]\n",
            "<class 'list'>\n"
          ]
        }
      ]
    },
    {
      "cell_type": "code",
      "source": [
        "fabricante_mobile_china = ['xiaomi', 'huawei']\n",
        "fabricante_mobile_eua = ['apple', 'motorola']\n",
        "fabricante_mobile = fabricante_mobile_china + fabricante_mobile_eua\n",
        "\n",
        "print(fabricante_mobile_china)\n",
        "print(fabricante_mobile_eua)\n",
        "print(fabricante_mobile)"
      ],
      "metadata": {
        "colab": {
          "base_uri": "https://localhost:8080/"
        },
        "id": "MmR3MkUc1CsA",
        "outputId": "8290f28a-70df-44f1-e174-43d43244d44c"
      },
      "execution_count": null,
      "outputs": [
        {
          "output_type": "stream",
          "name": "stdout",
          "text": [
            "['xiaomi', 'huawei']\n",
            "['apple', 'motorola']\n",
            "['xiaomi', 'huawei', 'apple', 'motorola']\n"
          ]
        }
      ]
    },
    {
      "cell_type": "code",
      "source": [
        "print(f'0: {fabricante_mobile[0]}')\n",
        "print(f'0: {fabricante_mobile[-1]}')"
      ],
      "metadata": {
        "colab": {
          "base_uri": "https://localhost:8080/"
        },
        "id": "7PjoO91c1ymg",
        "outputId": "81300a0d-f57b-49e3-8c6c-b63a9d774577"
      },
      "execution_count": null,
      "outputs": [
        {
          "output_type": "stream",
          "name": "stdout",
          "text": [
            "0: xiaomi\n",
            "0: motorola\n"
          ]
        }
      ]
    },
    {
      "cell_type": "code",
      "source": [
        "fabricante_mobile_china = fabricante_mobile[0:2]\n",
        "fabricante_mobile_eua = fabricante_mobile[2:len(fabricante_mobile)]\n",
        "\n",
        "print('china: ' + str(fabricante_mobile_china))\n",
        "print('eua: ' + str(fabricante_mobile_eua))"
      ],
      "metadata": {
        "colab": {
          "base_uri": "https://localhost:8080/"
        },
        "id": "YOXm0ReI2azK",
        "outputId": "38a9dff7-abaa-4fd3-8d63-35564e2c92c7"
      },
      "execution_count": null,
      "outputs": [
        {
          "output_type": "stream",
          "name": "stdout",
          "text": [
            "china: ['xiaomi', 'huawei']\n",
            "eua: ['apple', 'motorola']\n"
          ]
        }
      ]
    },
    {
      "cell_type": "code",
      "source": [
        "print(fabricante_mobile)\n",
        "\n",
        "fabricante_mobile[2] = 'nokia'\n",
        "print(fabricante_mobile)"
      ],
      "metadata": {
        "colab": {
          "base_uri": "https://localhost:8080/"
        },
        "id": "gPm4_IXx46Sf",
        "outputId": "6fc87f18-9c1f-40a3-f3bc-e9e8188d77d1"
      },
      "execution_count": null,
      "outputs": [
        {
          "output_type": "stream",
          "name": "stdout",
          "text": [
            "['xiaomi', 'huawei', 'apple', 'motorola']\n",
            "['xiaomi', 'huawei', 'nokia', 'motorola']\n"
          ]
        }
      ]
    },
    {
      "cell_type": "code",
      "source": [
        "juros = [0.05, 0.07, 0.02, 0.04, 0.08]\n",
        "print(juros)\n",
        "\n",
        "#inserir um elemento sem substituir: list.insert(index, val)\n",
        "juros.insert(0,0.10)\n",
        "print(juros)\n",
        "\n",
        "#inserir um elemento no fim da lista: list.append(val)\n",
        "juros.append(0.09)\n",
        "print(juros)\n",
        "\n",
        "#remover um elemento pelo valor: list.remove(val)\n",
        "juros.remove(0.1)\n",
        "print(juros)\n",
        "\n",
        "#remover um elemento pelo índice: list.pop(val)\n",
        "terceiro_juros = juros.pop(2)\n",
        "print(terceiro_juros)\n",
        "print(juros)"
      ],
      "metadata": {
        "colab": {
          "base_uri": "https://localhost:8080/"
        },
        "id": "8QBAxUV36Gbj",
        "outputId": "6908d445-a834-417d-803f-c8205f04d95b"
      },
      "execution_count": null,
      "outputs": [
        {
          "output_type": "stream",
          "name": "stdout",
          "text": [
            "[0.05, 0.07, 0.02, 0.04, 0.08]\n",
            "[0.1, 0.05, 0.07, 0.02, 0.04, 0.08]\n",
            "[0.1, 0.05, 0.07, 0.02, 0.04, 0.08, 0.09]\n",
            "[0.05, 0.07, 0.02, 0.04, 0.08, 0.09]\n",
            "0.02\n",
            "[0.05, 0.07, 0.04, 0.08, 0.09]\n"
          ]
        }
      ]
    },
    {
      "cell_type": "code",
      "source": [
        "email = 'andre.perez@gmail.com'\n",
        "caracteres_email = list(email)\n",
        "\n",
        "print(email)\n",
        "print(caracteres_email)"
      ],
      "metadata": {
        "colab": {
          "base_uri": "https://localhost:8080/"
        },
        "id": "HcBOiSds9B9k",
        "outputId": "1ace8df8-d786-4286-806c-9707b1c2a1ed"
      },
      "execution_count": null,
      "outputs": [
        {
          "output_type": "stream",
          "name": "stdout",
          "text": [
            "andre.perez@gmail.com\n",
            "['a', 'n', 'd', 'r', 'e', '.', 'p', 'e', 'r', 'e', 'z', '@', 'g', 'm', 'a', 'i', 'l', '.', 'c', 'o', 'm']\n"
          ]
        }
      ]
    },
    {
      "cell_type": "code",
      "source": [
        "dia_11_transacoes = 1000\n",
        "dia_11_transacoes = []\n",
        "\n",
        "dia_11_transacoes.append(243)\n",
        "dia_11_transacoes.append(-798.58)\n",
        "dia_11_transacoes.append(427.12)\n",
        "dia_11_transacoes.append(-10.91)\n",
        "\n",
        "print (dia_11_transacoes)\n",
        "\n",
        "dia_11_saldo_final = dia_11_saldo_inicial + dia_11_transacoes[0] + dia_11_transacoes[1] + dia_11_transacoes[2] + dia_11_transacoes[3]\n",
        "print(dia_11_saldo_final)"
      ],
      "metadata": {
        "colab": {
          "base_uri": "https://localhost:8080/"
        },
        "id": "UX3bPq_b9oZF",
        "outputId": "381d0dc1-3ece-480e-9f69-47a73606f7e2"
      },
      "execution_count": null,
      "outputs": [
        {
          "output_type": "stream",
          "name": "stdout",
          "text": [
            "[243, -798.58, 427.12, -10.91]\n",
            "860.63\n"
          ]
        }
      ]
    },
    {
      "cell_type": "markdown",
      "source": [
        "# **CONJUNTOS**"
      ],
      "metadata": {
        "id": "KejiMMw8BOYW"
      }
    },
    {
      "cell_type": "code",
      "source": [
        "hashtags_seg = ['#tiago', '#joao', '#bbb']\n",
        "hashtags_ter = ['#sarah', '#bbb', '#fiuk']\n",
        "hashtags_qua = ['#gil', '#thelma', '#lourdes']\n",
        "hashtags_qui = ['#rafa', '#fora', '#danilo']\n",
        "hashtags_sex = ['#juliete', '#arthur', '#bbb']\n",
        "\n",
        "hashtag_semana = hashtags_seg + hashtags_ter + hashtags_qua + hashtags_qui + hashtags_sex\n",
        "print(hashtag_semana)"
      ],
      "metadata": {
        "colab": {
          "base_uri": "https://localhost:8080/"
        },
        "id": "hl1psRGGBeTr",
        "outputId": "67459684-3993-47c0-ca7e-926aafdd5390"
      },
      "execution_count": null,
      "outputs": [
        {
          "output_type": "stream",
          "name": "stdout",
          "text": [
            "['#tiago', '#joao', '#bbb', '#sarah', '#bbb', '#fiuk', '#gil', '#thelma', '#lourdes', '#rafa', '#fora', '#danilo', '#juliete', '#arthur', '#bbb']\n"
          ]
        }
      ]
    }
  ]
}